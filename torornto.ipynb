{
 "cells": [
  {
   "cell_type": "markdown",
   "metadata": {},
   "source": [
    "# Capstone Project Report:-\n",
    "\n",
    "## Introduction:- Business Problem\n",
    "    In a city of New York, if someone is looking to open a restaurant, where would they open it to get maximum profit, it also means the place where people always visit and spend time. It helps the owner to get the maximum consumer.\n",
    "    \n",
    "    \n",
    "## Data & Methodology:-\n",
    "\n",
    "The data collected was the geographical coordinates of New York city Then, the foursquare API algorithm was employed to get all the venues in the radius of 10km. Next, mapping and clustering of all restaurants.After checking the maximum number of customers are visiting a particular area's restaurant, based on this we recommend that area for opening a new restaurant :\n",
    "\n",
    "* The number of existing restaurants  in the vicinity of the chosen location\n",
    "* The customer visit existing restaurants in particular area\n",
    "* On this basis we cluster restaurants\n"
   ]
  },
  {
   "cell_type": "code",
   "execution_count": null,
   "metadata": {},
   "outputs": [],
   "source": []
  }
 ],
 "metadata": {
  "kernelspec": {
   "display_name": "Python 3.6",
   "language": "python",
   "name": "python3"
  },
  "language_info": {
   "codemirror_mode": {
    "name": "ipython",
    "version": 3
   },
   "file_extension": ".py",
   "mimetype": "text/x-python",
   "name": "python",
   "nbconvert_exporter": "python",
   "pygments_lexer": "ipython3",
   "version": "3.6.9"
  }
 },
 "nbformat": 4,
 "nbformat_minor": 1
}
